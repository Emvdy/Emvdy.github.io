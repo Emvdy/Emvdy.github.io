{
  "cells": [
    {
      "cell_type": "code",
      "execution_count": 4,
      "metadata": {
        "id": "EY5phIHIh4AO",
        "outputId": "52cff4d0-7233-4486-ba26-1734948fe903",
        "colab": {
          "base_uri": "https://localhost:8080/"
        }
      },
      "outputs": [
        {
          "output_type": "stream",
          "name": "stdout",
          "text": [
            "Requirement already satisfied: apache-tvm in /usr/local/lib/python3.10/dist-packages (0.14.dev273)\n",
            "Requirement already satisfied: attrs in /usr/local/lib/python3.10/dist-packages (from apache-tvm) (24.3.0)\n",
            "Requirement already satisfied: cloudpickle in /usr/local/lib/python3.10/dist-packages (from apache-tvm) (3.1.0)\n",
            "Requirement already satisfied: decorator in /usr/local/lib/python3.10/dist-packages (from apache-tvm) (4.4.2)\n",
            "Requirement already satisfied: ml-dtypes in /usr/local/lib/python3.10/dist-packages (from apache-tvm) (0.4.1)\n",
            "Requirement already satisfied: numpy in /usr/local/lib/python3.10/dist-packages (from apache-tvm) (1.26.4)\n",
            "Requirement already satisfied: psutil in /usr/local/lib/python3.10/dist-packages (from apache-tvm) (5.9.5)\n",
            "Requirement already satisfied: scipy in /usr/local/lib/python3.10/dist-packages (from apache-tvm) (1.13.1)\n",
            "Requirement already satisfied: tornado in /usr/local/lib/python3.10/dist-packages (from apache-tvm) (6.3.3)\n",
            "Requirement already satisfied: typing-extensions in /usr/local/lib/python3.10/dist-packages (from apache-tvm) (4.12.2)\n"
          ]
        },
        {
          "output_type": "execute_result",
          "data": {
            "text/plain": []
          },
          "metadata": {},
          "execution_count": 4
        }
      ],
      "source": [
        "%%shell\n",
        "# Installs the latest dev build of TVM from PyPI. If you wish to build\n",
        "# from source, see https://tvm.apache.org/docs/install/from_source.html\n",
        "pip install apache-tvm"
      ]
    },
    {
      "cell_type": "markdown",
      "metadata": {
        "id": "-550_Ifjh4AP"
      },
      "source": [
        "\n",
        "\n",
        "# Quick Start\n",
        "\n",
        "This tutorial is for people who are new to Apache TVM. Taking an simple example\n",
        "to show how to use Apache TVM to compile a simple neural network.\n",
        "    :depth: 2\n"
      ]
    },
    {
      "cell_type": "markdown",
      "metadata": {
        "id": "fqQ1jdsih4AQ"
      },
      "source": [
        "## Overview\n",
        "Apache TVM is a machine learning compilation framework, following the principle of\n",
        "**Python-first development** and **universal deployment**. It takes in pre-trained\n",
        "machine learning models, compiles and generates deployable modules that can be embedded\n",
        "and run everywhere.\n",
        "Apache TVM also enables customizing optimization processes to introduce new optimizations,\n",
        "libraries, codegen and more.\n",
        "\n",
        "Apache TVM can help to:\n",
        "\n",
        "- **Optimize** performance of ML workloads, composing libraries and codegen.\n",
        "- **Deploy** ML workloads to a diverse set of new environments, including new runtime and new\n",
        "  hardware.\n",
        "- **Continuously improve and customize** ML deployment pipeline in Python by quickly customizing\n",
        "  library dispatching, bringing in customized operators and code generation.\n",
        "\n"
      ]
    },
    {
      "cell_type": "markdown",
      "metadata": {
        "id": "DllmHmS1h4AQ"
      },
      "source": [
        "## Overall Flow\n",
        "Then we will show the overall flow of using Apache TVM to compile a neural network model,\n",
        "showing how to optimize, deploy and run the model.\n",
        "The overall flow is illustrated as the figure:\n",
        "\n",
        "The overall flow consists of the following steps:\n",
        "\n",
        "- **Construct or Import a Model**: Construct a neural network model or import a pre-trained\n",
        "  model from other frameworks (e.g. PyTorch, ONNX), and create the TVM IRModule, which contains\n",
        "  all the information needed for compilation, including high-level Relax functions for\n",
        "  computational graph, and low-level TensorIR functions for tensor program.\n",
        "- **Perform Composable Optimizations**: Perform a series of optimization transformations,\n",
        "  such as graph optimizations, tensor program optimizations, and library dispatching.\n",
        "- **Build and Universal Deployment**: Build the optimized model to a deployable module to the\n",
        "  universal runtime, and execute it on different devices, such as CPU, GPU, or other accelerators.\n",
        "\n"
      ]
    },
    {
      "cell_type": "markdown",
      "metadata": {
        "id": "LMchpz1lh4AR"
      },
      "source": [
        "### Construct or Import a Model\n",
        "Before we get started, let's construct a neural network model first.\n",
        "In this tutorial, to make things simple, we will defined a two-layer MLP networks\n",
        "directly in this script with TVM Relax frontend, which is a similar API to PyTorch.\n",
        "\n",
        "\n"
      ]
    },
    {
      "cell_type": "code",
      "execution_count": 7,
      "metadata": {
        "id": "4HZpIh4Fh4AR",
        "outputId": "b32181fe-8fd0-4c20-b80f-ad6406293fc0",
        "colab": {
          "base_uri": "https://localhost:8080/",
          "height": 424
        }
      },
      "outputs": [
        {
          "output_type": "error",
          "ename": "ImportError",
          "evalue": "cannot import name 'relax' from 'tvm' (/usr/local/lib/python3.10/dist-packages/tvm/__init__.py)",
          "traceback": [
            "\u001b[0;31m---------------------------------------------------------------------------\u001b[0m",
            "\u001b[0;31mImportError\u001b[0m                               Traceback (most recent call last)",
            "\u001b[0;32m<ipython-input-7-2c485f88e350>\u001b[0m in \u001b[0;36m<cell line: 2>\u001b[0;34m()\u001b[0m\n\u001b[1;32m      1\u001b[0m \u001b[0;32mimport\u001b[0m \u001b[0mtvm\u001b[0m\u001b[0;34m\u001b[0m\u001b[0;34m\u001b[0m\u001b[0m\n\u001b[0;32m----> 2\u001b[0;31m \u001b[0;32mfrom\u001b[0m \u001b[0mtvm\u001b[0m \u001b[0;32mimport\u001b[0m \u001b[0mrelax\u001b[0m\u001b[0;34m\u001b[0m\u001b[0;34m\u001b[0m\u001b[0m\n\u001b[0m\u001b[1;32m      3\u001b[0m \u001b[0;32mfrom\u001b[0m \u001b[0mtvm\u001b[0m\u001b[0;34m.\u001b[0m\u001b[0mrelax\u001b[0m\u001b[0;34m.\u001b[0m\u001b[0mfrontend\u001b[0m \u001b[0;32mimport\u001b[0m \u001b[0mnn\u001b[0m\u001b[0;34m\u001b[0m\u001b[0;34m\u001b[0m\u001b[0m\n\u001b[1;32m      4\u001b[0m \u001b[0;34m\u001b[0m\u001b[0m\n\u001b[1;32m      5\u001b[0m \u001b[0;34m\u001b[0m\u001b[0m\n",
            "\u001b[0;31mImportError\u001b[0m: cannot import name 'relax' from 'tvm' (/usr/local/lib/python3.10/dist-packages/tvm/__init__.py)",
            "",
            "\u001b[0;31m---------------------------------------------------------------------------\u001b[0;32m\nNOTE: If your import is failing due to a missing package, you can\nmanually install dependencies using either !pip or !apt.\n\nTo view examples of installing some common dependencies, click the\n\"Open Examples\" button below.\n\u001b[0;31m---------------------------------------------------------------------------\u001b[0m\n"
          ],
          "errorDetails": {
            "actions": [
              {
                "action": "open_url",
                "actionText": "Open Examples",
                "url": "/notebooks/snippets/importing_libraries.ipynb"
              }
            ]
          }
        }
      ],
      "source": [
        "import tvm\n",
        "from tvm import relax\n",
        "from tvm.relax.frontend import nn\n",
        "\n",
        "\n",
        "class MLPModel(nn.Module):\n",
        "    def __init__(self):\n",
        "        super(MLPModel, self).__init__()\n",
        "        self.fc1 = nn.Linear(784, 256)\n",
        "        self.relu1 = nn.ReLU()\n",
        "        self.fc2 = nn.Linear(256, 10)\n",
        "\n",
        "    def forward(self, x):\n",
        "        x = self.fc1(x)\n",
        "        x = self.relu1(x)\n",
        "        x = self.fc2(x)\n",
        "        return x"
      ]
    },
    {
      "cell_type": "markdown",
      "metadata": {
        "id": "J-9tDMlwh4AR"
      },
      "source": [
        "Then we can export the model to TVM IRModule, which is the central intermediate representation\n",
        "in TVM.\n",
        "\n"
      ]
    },
    {
      "cell_type": "code",
      "execution_count": null,
      "metadata": {
        "id": "OUpN4CK_h4AS"
      },
      "outputs": [],
      "source": [
        "mod, param_spec = MLPModel().export_tvm(\n",
        "    spec={\"forward\": {\"x\": nn.spec.Tensor((1, 784), \"float32\")}}\n",
        ")\n",
        "mod.show()"
      ]
    },
    {
      "cell_type": "markdown",
      "metadata": {
        "id": "Cs3hJ8Joh4AS"
      },
      "source": [
        "### Perform Optimization Transformations\n",
        "Apache TVM leverage ``pipeline`` to transform and optimize program.\n",
        "The pipeline encapsulates a collection of transformation that gets two goals (at the same level):\n",
        "\n",
        "- **Model optimizations**: such as operator fusion, layout rewrites.\n",
        "- **Tensor program optimization**: Map the operators to low-level implementations\n",
        "  (both library or codegen)\n",
        "\n",
        "<div class=\"alert alert-info\"><h4>Note</h4><p>The twos are goals but not the stages of the pipeline. The two optimizations are performed\n",
        "  **at the same level**, or separately in two stages.</p></div>\n",
        "\n",
        "<div class=\"alert alert-info\"><h4>Note</h4><p>In this tutorial we only demonstrate the overall flow, by leverage ``zero`` optimization\n",
        "  pipeline, instead of optimizing for any specific target.</p></div>\n",
        "\n"
      ]
    },
    {
      "cell_type": "code",
      "execution_count": null,
      "metadata": {
        "id": "O6lX3FmKh4AT"
      },
      "outputs": [],
      "source": [
        "mod = relax.get_pipeline(\"zero\")(mod)"
      ]
    },
    {
      "cell_type": "markdown",
      "metadata": {
        "id": "W27pDus9h4AT"
      },
      "source": [
        "### Build and Universal Deployment\n",
        "After the optimization, we can build the model to a deployable module and run it on\n",
        "different devices.\n",
        "\n"
      ]
    },
    {
      "cell_type": "code",
      "execution_count": null,
      "metadata": {
        "id": "Q6O1Z80qh4AT"
      },
      "outputs": [],
      "source": [
        "import numpy as np\n",
        "\n",
        "target = tvm.target.Target(\"llvm\")\n",
        "ex = relax.build(mod, target)\n",
        "device = tvm.cpu()\n",
        "vm = relax.VirtualMachine(ex, device)\n",
        "data = np.random.rand(1, 784).astype(\"float32\")\n",
        "tvm_data = tvm.nd.array(data, device=device)\n",
        "params = [np.random.rand(*param.shape).astype(\"float32\") for _, param in param_spec]\n",
        "params = [tvm.nd.array(param, device=device) for param in params]\n",
        "print(vm[\"forward\"](tvm_data, *params).numpy())"
      ]
    },
    {
      "cell_type": "markdown",
      "metadata": {
        "id": "BPLa-EVHh4AU"
      },
      "source": [
        "Our goal is to bring machine learning to the application with any language of interest,\n",
        "with the minimum runtime support.\n",
        "\n",
        "- Each function in IRModule becomes a runnable function in the runtime. For example in LLM\n",
        "  cases, we can call ``prefill`` and ``decode`` functions directly.\n",
        "\n",
        "```Python\n",
        "prefill_logits = vm[\"prefill\"](inputs, weight, kv_cache)\n",
        "decoded_logits = vm[\"decode\"](inputs, weight, kv_cache)\n",
        "```\n",
        "- TVM runtime comes with native data structures, such as NDArray, can also have zero\n",
        "  copy exchange with existing ecosystem (DLPack exchange with PyTorch)\n",
        "\n",
        "```Python\n",
        "# Convert PyTorch tensor to TVM NDArray\n",
        "x_tvm = tvm.nd.from_dlpack(x_torch.to_dlpack())\n",
        "# Convert TVM NDArray to PyTorch tensor\n",
        "x_torch = torch.from_dlpack(x_tvm.to_dlpack())\n",
        "```\n",
        "- TVM runtime works in non-python environments, so it works on settings such as mobile\n",
        "\n",
        "```C++\n",
        "// C++ snippet\n",
        "runtime::Module vm = ex.GetFunction(\"load_executable\")();\n",
        "vm.GetFunction(\"init\")(...);\n",
        "NDArray out = vm.GetFunction(\"prefill\")(data, weight, kv_cache);\n",
        "```\n",
        "```Java\n",
        "// Java snippet\n",
        "Module vm = ex.getFunction(\"load_executable\").invoke();\n",
        "vm.getFunction(\"init\").pushArg(...).invoke;\n",
        "NDArray out = vm.getFunction(\"prefill\").pushArg(data).pushArg(weight).pushArg(kv_cache).invoke();\n",
        "```\n"
      ]
    },
    {
      "cell_type": "markdown",
      "metadata": {
        "id": "zBTFH_BZh4AU"
      },
      "source": [
        "## Read next\n",
        "This tutorial demonstrates the overall flow of using Apache TVM to compile a neural network model.\n",
        "For more advanced or specific topics, please refer to the following tutorials\n",
        "\n",
        "\n"
      ]
    }
  ],
  "metadata": {
    "kernelspec": {
      "display_name": "Python 3",
      "language": "python",
      "name": "python3"
    },
    "language_info": {
      "codemirror_mode": {
        "name": "ipython",
        "version": 3
      },
      "file_extension": ".py",
      "mimetype": "text/x-python",
      "name": "python",
      "nbconvert_exporter": "python",
      "pygments_lexer": "ipython3",
      "version": "3.9.20"
    },
    "colab": {
      "provenance": []
    }
  },
  "nbformat": 4,
  "nbformat_minor": 0
}